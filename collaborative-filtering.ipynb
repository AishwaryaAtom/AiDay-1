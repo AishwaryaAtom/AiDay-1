{
 "cells": [
  {
   "cell_type": "code",
   "execution_count": 1,
   "id": "50185c79-bf60-47fc-9f31-93c4517b093d",
   "metadata": {},
   "outputs": [
    {
     "name": "stdout",
     "output_type": "stream",
     "text": [
      "Recommended movies: ['Avatar', 'The Godfather', 'Interstellar']\n"
     ]
    }
   ],
   "source": [
    "import pandas as pd\n",
    "from sklearn.metrics.pairwise import cosine_similarity\n",
    "from sklearn.preprocessing import MinMaxScaler\n",
    "\n",
    "# Simulated user rating data\n",
    "data = {\n",
    "    'Title': [\n",
    "        'Inception', 'Titanic', 'The Dark Knight', 'Forrest Gump', 'Interstellar',\n",
    "        'The Godfather', 'The Shawshank Redemption', 'Jurassic Park', 'The Matrix',\n",
    "        'Gladiator', 'Avatar', 'Avengers: Endgame', 'Pulp Fiction', 'The Lion King',\n",
    "        'The Lord of the Rings', 'Fight Club', 'Star Wars', 'The Social Network',\n",
    "        'The Silence of the Lambs', 'Saving Private Ryan'\n",
    "    ],\n",
    "    'User1': [5, 3, 4, 2, 5, 5, 4, 3, 5, 4, 5, 3, 4, 3, 5, 4, 3, 2, 5, 4],\n",
    "    'User2': [4, 2, 5, 3, 4, 4, 5, 3, 4, 5, 4, 5, 2, 4, 4, 3, 5, 4, 3, 5],\n",
    "    'User3': [3, 4, 2, 5, 3, 3, 5, 4, 2, 4, 3, 4, 5, 4, 3, 5, 2, 3, 4, 5],\n",
    "}\n",
    "\n",
    "df = pd.DataFrame(data)\n",
    "\n",
    "# Remove title column for similarity calculations\n",
    "ratings_matrix = df.drop(columns=['Title'])\n",
    "\n",
    "# Normalize ratings using MinMaxScaler\n",
    "scaler = MinMaxScaler()\n",
    "normalized_ratings = scaler.fit_transform(ratings_matrix)\n",
    "\n",
    "# Compute similarity based on user rating patterns\n",
    "similarity_matrix = cosine_similarity(normalized_ratings)\n",
    "\n",
    "# Convert to DataFrame for easy lookup\n",
    "sim_df = pd.DataFrame(similarity_matrix, index=df['Title'], columns=df['Title'])\n",
    "\n",
    "def recommend_movies(movie_title, top_n=3):\n",
    "    \"\"\"\n",
    "    Recommend movies based on collaborative filtering.\n",
    "    Finds movies with the highest similarity based on user ratings.\n",
    "    \"\"\"\n",
    "    if movie_title not in sim_df.index:\n",
    "        return \"Movie not found!\"\n",
    "\n",
    "    # Get similarity scores for the given movie\n",
    "    similar_movies = sim_df[movie_title].sort_values(ascending=False)[1:top_n+1]\n",
    "\n",
    "    return similar_movies.index.tolist()\n",
    "\n",
    "# Example usage\n",
    "recommendations = recommend_movies('Inception')\n",
    "print(\"Recommended movies:\", recommendations)\n"
   ]
  },
  {
   "cell_type": "code",
   "execution_count": null,
   "id": "77f02aa6-fee4-4200-94b6-08419e328bb7",
   "metadata": {},
   "outputs": [],
   "source": []
  }
 ],
 "metadata": {
  "kernelspec": {
   "display_name": "Python 3 (ipykernel)",
   "language": "python",
   "name": "python3"
  },
  "language_info": {
   "codemirror_mode": {
    "name": "ipython",
    "version": 3
   },
   "file_extension": ".py",
   "mimetype": "text/x-python",
   "name": "python",
   "nbconvert_exporter": "python",
   "pygments_lexer": "ipython3",
   "version": "3.13.2"
  }
 },
 "nbformat": 4,
 "nbformat_minor": 5
}
